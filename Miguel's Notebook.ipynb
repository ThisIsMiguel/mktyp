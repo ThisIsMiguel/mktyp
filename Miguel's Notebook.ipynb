{
 "cells": [
  {
   "cell_type": "markdown",
   "metadata": {},
   "source": [
    "# MKTYP -- Miguel's Notebook"
   ]
  },
  {
   "cell_type": "code",
   "execution_count": 5,
   "metadata": {},
   "outputs": [
    {
     "name": "stdout",
     "output_type": "stream",
     "text": [
      "Happy Birthday 1\n",
      "Happy Birthday 2\n",
      "Happy Birthday 3\n",
      "Happy Birthday 4\n",
      "Happy Birthday 5\n",
      "Happy Birthday 6\n",
      "Happy Birthday 7\n",
      "Happy Birthday 8\n",
      "Happy Birthday 9\n",
      "Happy Birthday 10\n",
      "Happy Birthday 11\n",
      "Happy Birthday 12\n",
      "Happy Birthday 13\n",
      "Happy Birthday 14\n",
      "Happy Birthday 15\n",
      "Happy Birthday 16\n",
      "Happy Birthday 17\n",
      "Happy Birthday 18\n",
      "Happy Birthday 19\n"
     ]
    }
   ],
   "source": [
    "i=1\n",
    "while (i<=19):\n",
    "    print(\"Happy Birthday \" +str(i))\n",
    "    i=i+1"
   ]
  },
  {
   "cell_type": "code",
   "execution_count": 1,
   "metadata": {},
   "outputs": [
    {
     "name": "stdout",
     "output_type": "stream",
     "text": [
      "MPH TO FPS CALCULATOR\n",
      " Enter a speed in mph: 20\n",
      " in 1 second you will go 29.333333333333332 feet \n"
     ]
    }
   ],
   "source": [
    "def mph2fps(s):\n",
    "    return s*5280/3600\n",
    "\n",
    "print(\"MPH TO FPS CALCULATOR\")\n",
    "speed = float(input(\" Enter a speed in mph: \"))\n",
    "fps = mph2fps(speed)\n",
    "print(\" in 1 second you will go \" +str(fps)+ \" feet \")"
   ]
  },
  {
   "cell_type": "code",
   "execution_count": 2,
   "metadata": {},
   "outputs": [
    {
     "ename": "SyntaxError",
     "evalue": "invalid syntax (<ipython-input-2-9809ea630c8b>, line 5)",
     "output_type": "error",
     "traceback": [
      "\u001b[0;36m  File \u001b[0;32m\"<ipython-input-2-9809ea630c8b>\"\u001b[0;36m, line \u001b[0;32m5\u001b[0m\n\u001b[0;31m    d=float(input(enter a height in inches:\")\u001b[0m\n\u001b[0m    ^\u001b[0m\n\u001b[0;31mSyntaxError\u001b[0m\u001b[0;31m:\u001b[0m invalid syntax\n"
     ]
    }
   ],
   "source": [
    "def inch2meters (d):\n",
    "    return d/39.3700787\n",
    "\n",
    "print(\"inches to meters\"\n",
    "d=float(input(enter a height in inches:\")\n",
    "meters=inch2meters(d)\n",
    "print(\"you are\" +str(meters) + meters\")"
   ]
  },
  {
   "cell_type": "code",
   "execution_count": 3,
   "metadata": {},
   "outputs": [
    {
     "name": "stdout",
     "output_type": "stream",
     "text": [
      "The area of the triangle is \n"
     ]
    },
    {
     "ename": "TypeError",
     "evalue": "unsupported operand type(s) for +: 'NoneType' and 'str'",
     "output_type": "error",
     "traceback": [
      "\u001b[0;31m---------------------------------------------------------------------------\u001b[0m",
      "\u001b[0;31mTypeError\u001b[0m                                 Traceback (most recent call last)",
      "\u001b[0;32m<ipython-input-3-90275dc14cac>\u001b[0m in \u001b[0;36m<module>\u001b[0;34m\u001b[0m\n\u001b[1;32m      6\u001b[0m \u001b[0;34m\u001b[0m\u001b[0m\n\u001b[1;32m      7\u001b[0m \u001b[0marea\u001b[0m \u001b[0;34m=\u001b[0m \u001b[0;34m(\u001b[0m\u001b[0ms\u001b[0m\u001b[0;34m*\u001b[0m\u001b[0;34m(\u001b[0m\u001b[0ms\u001b[0m\u001b[0;34m-\u001b[0m\u001b[0ma\u001b[0m\u001b[0;34m)\u001b[0m\u001b[0;34m*\u001b[0m\u001b[0;34m(\u001b[0m\u001b[0ms\u001b[0m\u001b[0;34m-\u001b[0m\u001b[0mb\u001b[0m\u001b[0;34m)\u001b[0m\u001b[0;34m*\u001b[0m\u001b[0;34m(\u001b[0m\u001b[0ms\u001b[0m\u001b[0;34m-\u001b[0m\u001b[0mc\u001b[0m\u001b[0;34m)\u001b[0m\u001b[0;34m)\u001b[0m \u001b[0;34m*\u001b[0m \u001b[0;36m.5\u001b[0m\u001b[0;34m\u001b[0m\u001b[0m\n\u001b[0;32m----> 8\u001b[0;31m \u001b[0mprint\u001b[0m\u001b[0;34m(\u001b[0m\u001b[0;34m\"The area of the triangle is \"\u001b[0m\u001b[0;34m)\u001b[0m \u001b[0;34m+\u001b[0m \u001b[0mstr\u001b[0m\u001b[0;34m(\u001b[0m\u001b[0ms\u001b[0m\u001b[0;34m)\u001b[0m\u001b[0;34m\u001b[0m\u001b[0m\n\u001b[0m\u001b[1;32m      9\u001b[0m \u001b[0;34m\u001b[0m\u001b[0m\n",
      "\u001b[0;31mTypeError\u001b[0m: unsupported operand type(s) for +: 'NoneType' and 'str'"
     ]
    }
   ],
   "source": [
    "a = 3\n",
    "b = 6\n",
    "c = 2\n",
    "\n",
    "s = (a + b + c) / 2\n",
    "\n",
    "area = (s*(s-a)*(s-b)*(s-c)) * .5\n",
    "print(\"The area of the triangle is \") + str(s)\n",
    " "
   ]
  },
  {
   "cell_type": "code",
   "execution_count": 4,
   "metadata": {},
   "outputs": [
    {
     "name": "stdout",
     "output_type": "stream",
     "text": [
      "Enter vehicle speed in mph: 20\n",
      "20\n",
      "Enter number of hours vehicle traveled: 10\n",
      "10\n",
      "Distance Traveled in Miles\n"
     ]
    },
    {
     "ename": "NameError",
     "evalue": "name 'hour' is not defined",
     "output_type": "error",
     "traceback": [
      "\u001b[0;31m---------------------------------------------------------------------------\u001b[0m",
      "\u001b[0;31mNameError\u001b[0m                                 Traceback (most recent call last)",
      "\u001b[0;32m<ipython-input-4-f51415e825ba>\u001b[0m in \u001b[0;36m<module>\u001b[0;34m\u001b[0m\n\u001b[1;32m      4\u001b[0m \u001b[0mprint\u001b[0m\u001b[0;34m(\u001b[0m\u001b[0mtime\u001b[0m\u001b[0;34m)\u001b[0m\u001b[0;34m\u001b[0m\u001b[0m\n\u001b[1;32m      5\u001b[0m \u001b[0mprint\u001b[0m\u001b[0;34m(\u001b[0m\u001b[0;34m\"Distance Traveled in Miles\"\u001b[0m\u001b[0;34m)\u001b[0m\u001b[0;34m\u001b[0m\u001b[0m\n\u001b[0;32m----> 6\u001b[0;31m \u001b[0mdistance\u001b[0m \u001b[0;34m=\u001b[0m \u001b[0mspeed\u001b[0m \u001b[0;34m*\u001b[0m \u001b[0mhour\u001b[0m\u001b[0;34m\u001b[0m\u001b[0m\n\u001b[0m\u001b[1;32m      7\u001b[0m \u001b[0mprint\u001b[0m\u001b[0;34m(\u001b[0m\u001b[0mstr\u001b[0m\u001b[0;34m(\u001b[0m\u001b[0mhour\u001b[0m\u001b[0;34m)\u001b[0m \u001b[0;34m+\u001b[0m \u001b[0;34m\"  \"\u001b[0m \u001b[0;34m+\u001b[0m \u001b[0mstr\u001b[0m\u001b[0;34m(\u001b[0m\u001b[0mdistance\u001b[0m\u001b[0;34m)\u001b[0m\u001b[0;34m+\u001b[0m\u001b[0mstr\u001b[0m\u001b[0;34m(\u001b[0m\u001b[0;34m\" Miles\"\u001b[0m\u001b[0;34m)\u001b[0m\u001b[0;34m)\u001b[0m\u001b[0;34m\u001b[0m\u001b[0m\n",
      "\u001b[0;31mNameError\u001b[0m: name 'hour' is not defined"
     ]
    }
   ],
   "source": [
    "speed = input(\"Enter vehicle speed in mph: \")\n",
    "print(speed)\n",
    "time = input(\"Enter number of hours vehicle traveled: \")\n",
    "print(time)\n",
    "print(\"Distance Traveled in Miles\")\n",
    "distance = speed * hour\n",
    "print(str(hour) + \"  \" + str(distance)+str(\" Miles\"))"
   ]
  },
  {
   "cell_type": "code",
   "execution_count": 5,
   "metadata": {},
   "outputs": [
    {
     "name": "stdout",
     "output_type": "stream",
     "text": [
      "Degrees to Radians\n",
      "enter any degree you want 10\n",
      "your conversion from degrees to Radians is 0.17453292519943295 Radians \n"
     ]
    }
   ],
   "source": [
    "import math\n",
    "def degToRadian(d):\n",
    "    return d/180*math.pi\n",
    "print(\"Degrees to Radians\")\n",
    "deg = float(input( \"enter any degree you want \"))\n",
    "rad = degToRadian(deg)\n",
    "print( \"your conversion from degrees to Radians is \" +str(rad)+ \" Radians \")\n",
    "\n"
   ]
  },
  {
   "cell_type": "code",
   "execution_count": 6,
   "metadata": {},
   "outputs": [
    {
     "name": "stdout",
     "output_type": "stream",
     "text": [
      "This Program Will Tell You What Shape You are looking For Based On The Number of Sides\n",
      " enter the number of sides 2\n",
      "If your shape has 2 sides then your shape is a\n",
      "i do not know\n",
      "None\n"
     ]
    }
   ],
   "source": [
    "\n",
    "print(\"This Program Will Tell You What Shape You are looking For Based On The Number of Sides\")\n",
    "\n",
    "def shapeName(s):\n",
    "    if s==3:\n",
    "        print('triangle')\n",
    "    elif s==4:\n",
    "        print('square or rectangle')\n",
    "    elif s==5:\n",
    "        print('pentagon')\n",
    "    elif s==6:\n",
    "        print('hexagon')\n",
    "    else:\n",
    "        print('i do not know')\n",
    "        \n",
    "s= int(input(\" enter the number of sides \"))\n",
    "print(\"If your shape has \" + str(s) + \" sides then your shape is a\")  \n",
    "print (shapeName(s))"
   ]
  },
  {
   "cell_type": "code",
   "execution_count": 7,
   "metadata": {},
   "outputs": [
    {
     "name": "stdout",
     "output_type": "stream",
     "text": [
      "This program tells you if the any year is a leap year\n",
      " enter a year 2000\n",
      "the year 2000 is \n",
      " a leap year\n",
      "None\n"
     ]
    }
   ],
   "source": [
    "print(\"This program tells you if the any year is a leap year\")\n",
    "def is_leap_year(y):\n",
    "    if y%400==0: \n",
    "        print (\" a leap year\")\n",
    "    elif y%100==0:\n",
    "        print (\" not a leap year\")\n",
    "    elif y%4==0:\n",
    "        print (\" a leap year\")\n",
    "    else:\n",
    "       print (\" not a leap year\") \n",
    "        \n",
    "y= int(input(\" enter a year \"))\n",
    "print(\"the year \" + str(y) + \" is \")\n",
    "print (is_leap_year(y))"
   ]
  },
  {
   "cell_type": "code",
   "execution_count": 8,
   "metadata": {},
   "outputs": [
    {
     "name": "stdout",
     "output_type": "stream",
     "text": [
      "This program will tell you how much days a month has, even in a leap year\n",
      " Enter a month by number 10\n",
      "enter 0 if it is not a leap year and 1 if it is a leap year 0\n",
      "If the your number of month is  10 then it has \n",
      "31 days\n",
      "None\n"
     ]
    }
   ],
   "source": [
    "print(\"This program will tell you how much days a month has, even in a leap year\")\n",
    "def days_in_month(m,leap):\n",
    "    if m in [1,3,5,7,8,10,12]:\n",
    "       print (\"31 days\")\n",
    "    elif m in [4,6,9,11]:\n",
    "       print (\"30 days\")\n",
    "    elif leap:\n",
    "       print (\"28 days\")\n",
    "    else:\n",
    "       print (\"29 days\")\n",
    "m= int(input(\" Enter a month by number \"))\n",
    "leap= int(input(\"enter 0 if it is not a leap year and 1 if it is a leap year \"))\n",
    "print(\"If the your number of month is  \" + str(m) + \" then it has \")\n",
    "\n",
    "print (days_in_month(m,leap))"
   ]
  },
  {
   "cell_type": "code",
   "execution_count": 10,
   "metadata": {},
   "outputs": [
    {
     "ename": "SyntaxError",
     "evalue": "EOL while scanning string literal (<ipython-input-10-03b2b39501c9>, line 13)",
     "output_type": "error",
     "traceback": [
      "\u001b[0;36m  File \u001b[0;32m\"<ipython-input-10-03b2b39501c9>\"\u001b[0;36m, line \u001b[0;32m13\u001b[0m\n\u001b[0;31m    print('done\")\u001b[0m\n\u001b[0m                 ^\u001b[0m\n\u001b[0;31mSyntaxError\u001b[0m\u001b[0;31m:\u001b[0m EOL while scanning string literal\n"
     ]
    }
   ],
   "source": [
    "print(\"This program will allow you use the Hailstone function\") \n",
    "def nextHailstone(n):\n",
    "    if (n%2==0):\n",
    "        return n//2\n",
    "    else:\n",
    "        return (3*n)+1\n",
    "        \n",
    "x=int(input(\"enter a number\"))\n",
    "print(nextHailstone(x))\n",
    "while (x>1):\n",
    "    print(x)\n",
    "    x + nextHailstone\n",
    "print('done\")"
   ]
  },
  {
   "cell_type": "code",
   "execution_count": 11,
   "metadata": {},
   "outputs": [
    {
     "name": "stdout",
     "output_type": "stream",
     "text": [
      "this program will tell you if you can vote or not based on your age\n",
      "enter your age15\n",
      "if you are 15 years old  \n",
      " you are not allowed to vote\n",
      "None\n"
     ]
    }
   ],
   "source": [
    "print (\"this program will tell you if you can vote or not based on your age\")\n",
    "def can_vote(a):\n",
    "    if (a>=18):\n",
    "        print (\" you are allowed to vote\")\n",
    "    else:\n",
    "        print (\" you are not allowed to vote\")\n",
    "a=int(input(\"enter your age\"))\n",
    "print(\"if you are \" + str(a) + \" years old  \")\n",
    "print (can_vote(a))"
   ]
  },
  {
   "cell_type": "code",
   "execution_count": 12,
   "metadata": {},
   "outputs": [
    {
     "name": "stdout",
     "output_type": "stream",
     "text": [
      "what is your temperature?100\n",
      "what is the speed of the wind in mph20\n",
      "if the speed is20.0in mph and100.0in degrees the windchill is109.1947988529874\n"
     ]
    }
   ],
   "source": [
    "import math\n",
    "f=float(input(\"what is your temperature?\"))\n",
    "vel=float(input(\"what is the speed of the wind in mph\"))\n",
    "wc=35.74 + 0.6215 * f - 35.75 * math.pow (vel,0.16)+ 0.4275 * f *math.pow (vel,0.16)\n",
    "print(\"if the speed is\"+ str(vel)+ \"in mph and\" + str(f)+ \"in degrees the windchill is\"+ str(wc))\n"
   ]
  },
  {
   "cell_type": "code",
   "execution_count": 13,
   "metadata": {},
   "outputs": [
    {
     "name": "stdout",
     "output_type": "stream",
     "text": [
      "Enter a word:  hello\n",
      "hello\n"
     ]
    }
   ],
   "source": [
    "# read 2 from user\n",
    "w=input(\"Enter a word:  \")\n",
    "   \n",
    "if len(w)<=6:\n",
    "    print (w) \n",
    "else:\n",
    "    print (w[0:3]) + \".\""
   ]
  },
  {
   "cell_type": "code",
   "execution_count": 14,
   "metadata": {},
   "outputs": [
    {
     "name": "stdout",
     "output_type": "stream",
     "text": [
      "put a number10\n",
      "10000\n"
     ]
    }
   ],
   "source": [
    "def forthpower(x):\n",
    "   return x*x*x*x\n",
    "x=int(input(\"put a number\"))\n",
    "print(forthpower(x))"
   ]
  },
  {
   "cell_type": "code",
   "execution_count": 15,
   "metadata": {},
   "outputs": [
    {
     "name": "stdout",
     "output_type": "stream",
     "text": [
      "enter a word hello\n",
      "hehello\n"
     ]
    }
   ],
   "source": [
    "word = input(\"enter a word \") \n",
    "print(  word[0:2] + word)\n"
   ]
  },
  {
   "cell_type": "code",
   "execution_count": 16,
   "metadata": {},
   "outputs": [
    {
     "ename": "IndentationError",
     "evalue": "unexpected indent (<ipython-input-16-c5e69a66d349>, line 2)",
     "output_type": "error",
     "traceback": [
      "\u001b[0;36m  File \u001b[0;32m\"<ipython-input-16-c5e69a66d349>\"\u001b[0;36m, line \u001b[0;32m2\u001b[0m\n\u001b[0;31m    def make_phone_number(n):\u001b[0m\n\u001b[0m    ^\u001b[0m\n\u001b[0;31mIndentationError\u001b[0m\u001b[0;31m:\u001b[0m unexpected indent\n"
     ]
    }
   ],
   "source": [
    "# \"this program will help you convert number from (\"7817362706\")  to \"1-(781)-736-2706\" \"\n",
    " def make_phone_number(n):\n",
    "    return str(1) + \"-\"+\"(\"+n[0:3] + \")\"+\"-\"+n[3:6]+\"-\"+n[6:10]\n",
    "    n= int(input(\" enter a number  \"))\n",
    "    print(\"If your number is \" + str(n) + \"then your new number converted is\")  \n",
    "    print (make_phone_number(n))"
   ]
  },
  {
   "cell_type": "code",
   "execution_count": 17,
   "metadata": {},
   "outputs": [
    {
     "name": "stdout",
     "output_type": "stream",
     "text": [
      "enter the number of pennies10\n",
      "enter the number ofnickels10\n",
      "enter the number of dimes10\n",
      "enter the number of quarters10\n",
      "410\n"
     ]
    }
   ],
   "source": [
    "def countChange(p,n,d,q):\n",
    "    p = 1 * p\n",
    "    n = 5 *n\n",
    "    d = 10 *d\n",
    "    q = 25 *q\n",
    "    total=(p+n+d+q)\n",
    "    return total\n",
    "p=int(input(\"enter the number of pennies\"))\n",
    "n=int(input(\"enter the number ofnickels\"))\n",
    "d=int(input(\"enter the number of dimes\"))\n",
    "q=int(input(\"enter the number of quarters\"))\n",
    "\n",
    "print(countChange(p,n,d,q))"
   ]
  },
  {
   "cell_type": "code",
   "execution_count": 18,
   "metadata": {},
   "outputs": [
    {
     "name": "stdout",
     "output_type": "stream",
     "text": [
      "enter the number10\n",
      "enter the number10\n",
      "enter the number10\n",
      "10.0\n"
     ]
    }
   ],
   "source": [
    "# This program will help you find the average of 3 numbers. \n",
    "def average3(a,b,c):\n",
    "    return (a+b+c)/3\n",
    "\n",
    "a=int(input(\"enter the number\"))\n",
    "b=int(input(\"enter the number\"))\n",
    "c=int(input(\"enter the number\"))\n",
    "\n",
    "print(average3(a,b,c))"
   ]
  },
  {
   "cell_type": "code",
   "execution_count": 19,
   "metadata": {},
   "outputs": [
    {
     "name": "stdout",
     "output_type": "stream",
     "text": [
      "enter the number100\n",
      "-100\n"
     ]
    }
   ],
   "source": [
    "\n",
    "def mystery(n):\n",
    "  if  n<0:\n",
    "      return 0\n",
    "  elif n%2==1:\n",
    "      return n*2\n",
    "  else:\n",
    "      return n*(-1)\n",
    "\n",
    "n=int(input(\"enter the number\"))\n",
    "print( mystery(n))"
   ]
  },
  {
   "cell_type": "code",
   "execution_count": 20,
   "metadata": {},
   "outputs": [
    {
     "name": "stdout",
     "output_type": "stream",
     "text": [
      "enter the number for the side 10\n",
      "enter the number for the length 20\n",
      "3077.6835371752536\n"
     ]
    }
   ],
   "source": [
    "# this program will help you find the area of a polygon with n sides of length a.\n",
    "import math\n",
    "def polygonArea(n,a):\n",
    "    area = n*math.pow (a,2)/(4 * math.tan(math.pi/n)) \n",
    "    return area \n",
    "n=int(input(\"enter the number for the side\"))\n",
    "a=int(input(\"enter the number for the length\"))\n",
    "print( polygonArea(n,a))"
   ]
  },
  {
   "cell_type": "code",
   "execution_count": 21,
   "metadata": {},
   "outputs": [
    {
     "name": "stdout",
     "output_type": "stream",
     "text": [
      "enter your age 18\n",
      "10\n"
     ]
    }
   ],
   "source": [
    "# this progam will return the cost of a movie where children under 18 and seniors 65 and older pay 6 dollars and everyone else pays 10 dollars\n",
    "def movieCost(a): \n",
    "    if 18>a:\n",
    "        return 6\n",
    "    elif 65<=a:\n",
    "        return 6\n",
    "    else:\n",
    "        return 10\n",
    "a=int(input(\"enter your age\"))\n",
    "print(  movieCost(a))"
   ]
  },
  {
   "cell_type": "code",
   "execution_count": null,
   "metadata": {},
   "outputs": [],
   "source": []
  }
 ],
 "metadata": {
  "kernelspec": {
   "display_name": "Python 3",
   "language": "python",
   "name": "python3"
  },
  "language_info": {
   "codemirror_mode": {
    "name": "ipython",
    "version": 3
   },
   "file_extension": ".py",
   "mimetype": "text/x-python",
   "name": "python",
   "nbconvert_exporter": "python",
   "pygments_lexer": "ipython3",
   "version": "3.7.0"
  }
 },
 "nbformat": 4,
 "nbformat_minor": 2
}
